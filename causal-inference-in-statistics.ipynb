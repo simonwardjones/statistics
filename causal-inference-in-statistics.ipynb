{
 "cells": [
  {
   "cell_type": "markdown",
   "metadata": {},
   "source": [
    "# Causal inference in statistics"
   ]
  },
  {
   "cell_type": "markdown",
   "metadata": {},
   "source": [
    "### 1.2.1"
   ]
  },
  {
   "cell_type": "markdown",
   "metadata": {},
   "source": [
    "a. Corelation doesn't imply causation  \n",
    "b. X causes Y doesn't imply Y causes X  \n",
    "c. People who hurry are probably more prone to being late. The hurrying probably makes them less late but not enough to overcome there inherent lateness. Reminds me of the example of treatments being given to already ill patients."
   ]
  },
  {
   "cell_type": "markdown",
   "metadata": {},
   "source": [
    "### 1.2.3"
   ]
  },
  {
   "cell_type": "markdown",
   "metadata": {},
   "source": [
    "This is an interesting one. Tim has a better batting average than teammate Frank. However Frank has a better average against both left and right handed pitchers. Say what....?\n",
    "\n",
    "My example of how this can happen. First assume that right handed pitchers are a lot better than lefties. Then it might the case that Tim has had less right handed players than Frank."
   ]
  },
  {
   "cell_type": "code",
   "execution_count": 2,
   "metadata": {},
   "outputs": [],
   "source": [
    "import pandas as pd"
   ]
  },
  {
   "cell_type": "code",
   "execution_count": 3,
   "metadata": {},
   "outputs": [],
   "source": [
    "batting_averages =  pd.DataFrame({\n",
    "    \"Player\":[\"Tim\", \"Tim\", \"Frank\", \"Frank\"],\n",
    "    \"Pitcher Hand\": [\"Right\", \"Left\", \"Right\", \"Left\"],\n",
    "    \"Balls Faced\": [20, 80, 40, 60],\n",
    "    \"Hits\": [4, 32, 9, 25],\n",
    "}).assign(Average= lambda x: x['Hits'] / x['Balls Faced'])"
   ]
  },
  {
   "cell_type": "code",
   "execution_count": 4,
   "metadata": {},
   "outputs": [
    {
     "data": {
      "text/html": [
       "<div>\n",
       "<style scoped>\n",
       "    .dataframe tbody tr th:only-of-type {\n",
       "        vertical-align: middle;\n",
       "    }\n",
       "\n",
       "    .dataframe tbody tr th {\n",
       "        vertical-align: top;\n",
       "    }\n",
       "\n",
       "    .dataframe thead th {\n",
       "        text-align: right;\n",
       "    }\n",
       "</style>\n",
       "<table border=\"1\" class=\"dataframe\">\n",
       "  <thead>\n",
       "    <tr style=\"text-align: right;\">\n",
       "      <th></th>\n",
       "      <th>Player</th>\n",
       "      <th>Pitcher Hand</th>\n",
       "      <th>Balls Faced</th>\n",
       "      <th>Hits</th>\n",
       "      <th>Average</th>\n",
       "    </tr>\n",
       "  </thead>\n",
       "  <tbody>\n",
       "    <tr>\n",
       "      <th>0</th>\n",
       "      <td>Tim</td>\n",
       "      <td>Right</td>\n",
       "      <td>20</td>\n",
       "      <td>4</td>\n",
       "      <td>0.200000</td>\n",
       "    </tr>\n",
       "    <tr>\n",
       "      <th>1</th>\n",
       "      <td>Tim</td>\n",
       "      <td>Left</td>\n",
       "      <td>80</td>\n",
       "      <td>32</td>\n",
       "      <td>0.400000</td>\n",
       "    </tr>\n",
       "    <tr>\n",
       "      <th>2</th>\n",
       "      <td>Frank</td>\n",
       "      <td>Right</td>\n",
       "      <td>40</td>\n",
       "      <td>9</td>\n",
       "      <td>0.225000</td>\n",
       "    </tr>\n",
       "    <tr>\n",
       "      <th>3</th>\n",
       "      <td>Frank</td>\n",
       "      <td>Left</td>\n",
       "      <td>60</td>\n",
       "      <td>25</td>\n",
       "      <td>0.416667</td>\n",
       "    </tr>\n",
       "  </tbody>\n",
       "</table>\n",
       "</div>"
      ],
      "text/plain": [
       "  Player Pitcher Hand  Balls Faced  Hits   Average\n",
       "0    Tim        Right           20     4  0.200000\n",
       "1    Tim         Left           80    32  0.400000\n",
       "2  Frank        Right           40     9  0.225000\n",
       "3  Frank         Left           60    25  0.416667"
      ]
     },
     "execution_count": 4,
     "metadata": {},
     "output_type": "execute_result"
    }
   ],
   "source": [
    "# Note Frank is better against both as required!\n",
    "batting_averages"
   ]
  },
  {
   "cell_type": "code",
   "execution_count": 5,
   "metadata": {},
   "outputs": [
    {
     "data": {
      "text/html": [
       "<div>\n",
       "<style scoped>\n",
       "    .dataframe tbody tr th:only-of-type {\n",
       "        vertical-align: middle;\n",
       "    }\n",
       "\n",
       "    .dataframe tbody tr th {\n",
       "        vertical-align: top;\n",
       "    }\n",
       "\n",
       "    .dataframe thead th {\n",
       "        text-align: right;\n",
       "    }\n",
       "</style>\n",
       "<table border=\"1\" class=\"dataframe\">\n",
       "  <thead>\n",
       "    <tr style=\"text-align: right;\">\n",
       "      <th></th>\n",
       "      <th>Balls Faced</th>\n",
       "      <th>Hits</th>\n",
       "      <th>Average</th>\n",
       "    </tr>\n",
       "    <tr>\n",
       "      <th>Player</th>\n",
       "      <th></th>\n",
       "      <th></th>\n",
       "      <th></th>\n",
       "    </tr>\n",
       "  </thead>\n",
       "  <tbody>\n",
       "    <tr>\n",
       "      <th>Frank</th>\n",
       "      <td>100</td>\n",
       "      <td>34</td>\n",
       "      <td>0.34</td>\n",
       "    </tr>\n",
       "    <tr>\n",
       "      <th>Tim</th>\n",
       "      <td>100</td>\n",
       "      <td>36</td>\n",
       "      <td>0.36</td>\n",
       "    </tr>\n",
       "  </tbody>\n",
       "</table>\n",
       "</div>"
      ],
      "text/plain": [
       "        Balls Faced  Hits  Average\n",
       "Player                            \n",
       "Frank           100    34     0.34\n",
       "Tim             100    36     0.36"
      ]
     },
     "execution_count": 5,
     "metadata": {},
     "output_type": "execute_result"
    }
   ],
   "source": [
    "# Note Tim is better overall! \n",
    "batting_averages\\\n",
    "        .groupby('Player')[['Balls Faced','Hits']]\\\n",
    "        .sum()\\\n",
    "        .assign(Average= lambda x: x['Hits'] / x['Balls Faced'])"
   ]
  },
  {
   "cell_type": "markdown",
   "metadata": {},
   "source": [
    "### 1.2.3"
   ]
  },
  {
   "cell_type": "markdown",
   "metadata": {},
   "source": [
    "a. Find out the stone size and then use the segregated treatment efficacy numbers.  \n",
    "b. You want to look separately. The doctor doing the hard ones might have a low success rate despite being better at both. Much like Frank above."
   ]
  },
  {
   "cell_type": "markdown",
   "metadata": {},
   "source": [
    "### 1.2.4"
   ]
  },
  {
   "cell_type": "markdown",
   "metadata": {},
   "source": [
    "I really don't think this question is solvable!  \n",
    "\n",
    "Nor does this person: https://math.stackexchange.com/questions/2959820/causal-inference-a-primer-study-question !\n",
    "\n"
   ]
  },
  {
   "cell_type": "markdown",
   "metadata": {},
   "source": [
    "### 1.3.1"
   ]
  },
  {
   "cell_type": "markdown",
   "metadata": {},
   "source": [
    "variables: [treatment, depression, lolly, recovery]"
   ]
  },
  {
   "cell_type": "markdown",
   "metadata": {},
   "source": [
    "### 1.3.2"
   ]
  },
  {
   "cell_type": "code",
   "execution_count": 6,
   "metadata": {},
   "outputs": [
    {
     "name": "stdout",
     "output_type": "stream",
     "text": [
      "a. P(High School = 0.172)\n",
      "b. P(High School OR Female = 0.611)\n",
      "c. P(High School | Female = 0.150)\n",
      "d. P(Female | High School = 0.450)\n"
     ]
    }
   ],
   "source": [
    "# a.\n",
    "data = pd.DataFrame.from_records(\n",
    "    [\n",
    "        [\"Male\", \"Never finished high school\", 112],\n",
    "        [\"Male\", \"High school\", 231],\n",
    "        [\"Male\", \"College\", 595],\n",
    "        [\"Male\", \"Graduate school\", 242],\n",
    "        [\"Female\", \"Never finished high school\", 136],\n",
    "        [\"Female\", \"High school\", 189],\n",
    "        [\"Female\", \"College\", 763],\n",
    "        [\"Female\", \"Graduate school\", 172],\n",
    "    ],\n",
    "    columns=[\"gender\", \"highest_education\", \"occurrence\"],\n",
    ")\n",
    "a = (\n",
    "    data.loc[data[\"highest_education\"] == \"High school\", \"occurrence\"].sum()\n",
    "    / data[\"occurrence\"].sum()\n",
    ")\n",
    "b = (\n",
    "    data.loc[\n",
    "        (data[\"highest_education\"] == \"High school\") | (data[\"gender\"] == \"Female\"),\n",
    "        \"occurrence\",\n",
    "    ].sum()\n",
    "    / data[\"occurrence\"].sum()\n",
    ")\n",
    "c = (\n",
    "    data.loc[\n",
    "        (data[\"highest_education\"] == \"High school\") & (data[\"gender\"] == \"Female\"),\n",
    "        \"occurrence\",\n",
    "    ].sum()\n",
    "    / data.loc[data[\"gender\"] == \"Female\", \"occurrence\"].sum()\n",
    ")\n",
    "d = (\n",
    "    data.loc[\n",
    "        (data[\"highest_education\"] == \"High school\") & (data[\"gender\"] == \"Female\"),\n",
    "        \"occurrence\",\n",
    "    ].sum()\n",
    "    / data.loc[data[\"highest_education\"] == \"High school\", \"occurrence\"].sum()\n",
    ")\n",
    "\n",
    "print(f\"a. P(High School = {a:.3f})\")\n",
    "print(f\"b. P(High School OR Female = {b:.3f})\")\n",
    "print(f\"c. P(High School | Female = {c:.3f})\")\n",
    "print(f\"d. P(Female | High School = {d:.3f})\")\n"
   ]
  },
  {
   "cell_type": "markdown",
   "metadata": {},
   "source": [
    "### 1.3.3"
   ]
  },
  {
   "cell_type": "markdown",
   "metadata": {},
   "source": [
    "Compute P(“craps”|“11”) assuming that there are twice as many roulette tables as craps\n",
    "games at the casino."
   ]
  },
  {
   "cell_type": "code",
   "execution_count": 7,
   "metadata": {},
   "outputs": [
    {
     "name": "stdout",
     "output_type": "stream",
     "text": [
      "Chance of craps given 11 and twice as many roulette tables = 0.514\n"
     ]
    }
   ],
   "source": [
    "# a\n",
    "p_11 = 1/18 * 1/3 + 1/38 * 2/3\n",
    "p_craps_given_11 = (1/18 * 1/3) / p_11\n",
    "print(f\"Chance of craps given 11 and twice as many roulette tables = {p_craps_given_11:.3f}\")"
   ]
  },
  {
   "cell_type": "code",
   "execution_count": 8,
   "metadata": {},
   "outputs": [
    {
     "name": "stdout",
     "output_type": "stream",
     "text": [
      "Chance of roulette given 10 and twice as many craps tables = 0.136\n"
     ]
    }
   ],
   "source": [
    "# b\n",
    "p_10 = 3/36 * 2/3 + 1/38 * 1/3\n",
    "p_roulette_given_10 = (1/38 * 1/3) / p_10\n",
    "print(f\"Chance of roulette given 10 and twice as many craps tables = {p_roulette_given_10:.3f}\")"
   ]
  },
  {
   "cell_type": "markdown",
   "metadata": {},
   "source": [
    "### 1.3.4"
   ]
  },
  {
   "cell_type": "markdown",
   "metadata": {},
   "source": [
    "a. Intuition says the chance is 1/2 as it is either card 1 or 3. The probability is actually greater than a half as the very fact it has one half black suggests that is card 1."
   ]
  },
  {
   "cell_type": "markdown",
   "metadata": {},
   "source": [
    "b\n",
    "$$\n",
    "\\begin{aligned}\n",
    "P(CD = black)\n",
    "    &= P(CD  = black | I = 1)P(I = 1) + P(CD  = black | I = 2)P(I = 2)+ P(CD  = black | I = 3)P(I = 3)\\\\\n",
    "    &= 1 * 1/3 + 0 * 1/3 + P(CD  = black | I = 3) * 1/3\\\\\n",
    "    &= 1/3 + [P(CD  = black | I = 3, CU = white)p(CU = white | I = 3) + P(CD  = black | I = 3, CU = black)p(CU = black | I = 3)] * 1/3\\\\\n",
    "    &= 1/3 + [1 * 1/2 + 0 * 1/2] * 1/3 \\\\\n",
    "    &= 1/3 + 1/6\\\\\n",
    "    &= 1/2\n",
    "\\end{aligned}\n",
    "$$"
   ]
  },
  {
   "cell_type": "markdown",
   "metadata": {},
   "source": [
    "c\n",
    "Use Bayes’ theorem to find the correct probability of a randomly selected card’s back being black if you observe that its front is black?"
   ]
  },
  {
   "cell_type": "markdown",
   "metadata": {},
   "source": [
    "$$\n",
    "\\begin{aligned}\n",
    "P(CD = black | CU = black)\n",
    "    &= P(CD = black, CU = black) / P(CU = black) \\\\\n",
    "    &= 1/3 / 1/2 \\\\\n",
    "    &= 2/3\n",
    "\\end{aligned}\n",
    "$$"
   ]
  },
  {
   "cell_type": "markdown",
   "metadata": {},
   "source": [
    "### 1.3.5"
   ]
  },
  {
   "cell_type": "markdown",
   "metadata": {},
   "source": [
    "Monty hall."
   ]
  },
  {
   "cell_type": "markdown",
   "metadata": {},
   "source": [
    "OK \n",
    " - let D in [1, 2, 3] be the initial choice of door\n",
    " - let F in [1, 2, 3] be the final choice\n",
    " - let C in [1, 2, 3] be the door with the Car!\n",
    " - let H in [1, 2, 3] be the door revealed by the host with a goat.\n",
    " - let S be in [True, False] be whether the user swaps!\n",
    "\n",
    "Note \n",
    "- P(D = i) = 1/3 for all doors\n",
    "- P(C = i) = 1/3 for all doors\n",
    "- P(C = i | H = i) = 0 as the host wont show the Car!\n",
    "\n",
    "$$\n",
    "P(F = C | S = True) = \\sum_i P(F = C | S = True, D = i, C = D)P(D = i, C = D) + P(F = C | S = True, D = i, C != D)P(D = i, C != D) \\\\\n",
    "    = \\sum_i 0 * P(D = i, C = D) +  1 * 1/3 * 2/3\\\\\n",
    "    = \\sum_i 2/9\\\\\n",
    "    = 2/3\n",
    "$$\n",
    "Compared to:\n",
    "$$\n",
    "P(F = C | S = False) = P(D = C) = 1/3\n",
    "$$"
   ]
  },
  {
   "cell_type": "markdown",
   "metadata": {},
   "source": [
    "### 1.3.6"
   ]
  },
  {
   "cell_type": "markdown",
   "metadata": {},
   "source": [
    "(a) Prove that, in general, both $\\sigma_{XY}$  and $\\rho_{XY}$ vanish when X and Y are independent. [Hint:\n",
    "Use Eqs. (1.16) and (1.17).]\n",
    "\n",
    "First we show assuming independence\n",
    "$$\n",
    "E[XY] = \\sum_{x, y} xy P[X=x, Y=y] \\\\\n",
    "E[XY] = \\sum_{x, y} xy P[X=x]P[Y=y] \\\\\n",
    "E[XY] = \\sum_{x}\\sum_{y} xy P[X=x]P[Y=y] \\\\\n",
    "E[XY] = \\sum_{x}xP[X=x]\\sum_{y} y P[Y=y] \\\\\n",
    "E[XY] = E[X]E[Y]\n",
    "$$\n",
    "\n",
    "So then:\n",
    "$$\n",
    "\\sigma_{XY} \\\n",
    "    = E[(X-\\bar{X})(Y-\\bar{Y})] \\\\\n",
    "    = E[XY] - E[\\bar{X}Y] - E[X\\bar{Y}] + E[\\bar{X}\\bar{Y}] \\\\\n",
    "    = E[XY] - E[X]E[Y] - E[X]E[Y] + E[E[X]E[Y]] \\\\\n",
    "    = E[XY] - E[X]E[Y] \\\\\n",
    "    = 0 \\quad\\text{Due to ind.}\n",
    "$$\n",
    "\n",
    "(b) Give an example of two variables that are highly dependent and, yet, their correlation\n",
    "coefficient vanishes."
   ]
  },
  {
   "cell_type": "markdown",
   "metadata": {},
   "source": [
    "### 1.3.7"
   ]
  },
  {
   "cell_type": "code",
   "execution_count": 9,
   "metadata": {},
   "outputs": [
    {
     "data": {
      "text/html": [
       "<div>\n",
       "<style scoped>\n",
       "    .dataframe tbody tr th:only-of-type {\n",
       "        vertical-align: middle;\n",
       "    }\n",
       "\n",
       "    .dataframe tbody tr th {\n",
       "        vertical-align: top;\n",
       "    }\n",
       "\n",
       "    .dataframe thead th {\n",
       "        text-align: right;\n",
       "    }\n",
       "</style>\n",
       "<table border=\"1\" class=\"dataframe\">\n",
       "  <thead>\n",
       "    <tr style=\"text-align: right;\">\n",
       "      <th></th>\n",
       "      <th>c1</th>\n",
       "      <th>c2</th>\n",
       "      <th>x</th>\n",
       "      <th>y</th>\n",
       "    </tr>\n",
       "  </thead>\n",
       "  <tbody>\n",
       "    <tr>\n",
       "      <th>0</th>\n",
       "      <td>H</td>\n",
       "      <td>H</td>\n",
       "      <td>1</td>\n",
       "      <td>1</td>\n",
       "    </tr>\n",
       "    <tr>\n",
       "      <th>1</th>\n",
       "      <td>H</td>\n",
       "      <td>T</td>\n",
       "      <td>1</td>\n",
       "      <td>0</td>\n",
       "    </tr>\n",
       "    <tr>\n",
       "      <th>2</th>\n",
       "      <td>T</td>\n",
       "      <td>H</td>\n",
       "      <td>1</td>\n",
       "      <td>0</td>\n",
       "    </tr>\n",
       "    <tr>\n",
       "      <th>3</th>\n",
       "      <td>T</td>\n",
       "      <td>T</td>\n",
       "      <td>0</td>\n",
       "      <td>1</td>\n",
       "    </tr>\n",
       "  </tbody>\n",
       "</table>\n",
       "</div>"
      ],
      "text/plain": [
       "  c1 c2  x  y\n",
       "0  H  H  1  1\n",
       "1  H  T  1  0\n",
       "2  T  H  1  0\n",
       "3  T  T  0  1"
      ]
     },
     "execution_count": 9,
     "metadata": {},
     "output_type": "execute_result"
    }
   ],
   "source": [
    "coin_data = pd.DataFrame(\n",
    "    {\n",
    "        \"c1\": \"H H T T\".split(),\n",
    "        \"c2\": \"H T H T\".split(),\n",
    "    }\n",
    ")\n",
    "coin_data['x'] = 1 * ~((coin_data['c1'] == 'T') & (coin_data['c2'] == 'T'))\n",
    "coin_data['y'] = 1 * (coin_data['c1'] == coin_data['c2'])\n",
    "coin_data\n"
   ]
  },
  {
   "cell_type": "code",
   "execution_count": 10,
   "metadata": {},
   "outputs": [
    {
     "name": "stdout",
     "output_type": "stream",
     "text": [
      "E(X) = 0.75\n",
      "E(Y) = 0.5\n",
      "E(Y|X = 1) = 0.3333333333333333\n",
      "E(Y|X = 0) = 1.0\n",
      "E(X|Y = 1) = 0.5\n",
      "E(X|Y = 0) = 1.0\n",
      "Var(X) = x    0.1875\n",
      "dtype: float64\n",
      "Var(Y) = y    0.25\n",
      "dtype: float64\n",
      "Cov(X, Y) = -0.125\n",
      "c) 1/2\n",
      "d) 1/3\n",
      "e) no?\n"
     ]
    }
   ],
   "source": [
    "print(f\"E(X) = {coin_data['x'].mean()}\")\n",
    "print(f\"E(Y) = {coin_data['y'].mean()}\")\n",
    "print(f\"E(Y|X = 1) = {coin_data[coin_data['x'] == 1]['y'].mean()}\")\n",
    "print(f\"E(Y|X = 0) = {coin_data[coin_data['x'] == 0]['y'].mean()}\")\n",
    "print(f\"E(X|Y = 1) = {coin_data[coin_data['y'] == 1]['x'].mean()}\")\n",
    "print(f\"E(X|Y = 0) = {coin_data[coin_data['y'] == 0]['x'].mean()}\")\n",
    "print(f\"Var(X) = {coin_data[['x']].var() * 3/4}\")\n",
    "print(f\"Var(Y) = {coin_data[['y']].var() * 3/4}\")\n",
    "print(f\"Cov(X, Y) = {(coin_data[['x','y']].cov() * 3/4)['x']['y']}\")\n",
    "print(f\"c) 1/2\")\n",
    "print(f\"d) 1/3\")\n",
    "print(f\"e) no?\")"
   ]
  },
  {
   "cell_type": "markdown",
   "metadata": {},
   "source": [
    "### 1.3.8"
   ]
  },
  {
   "cell_type": "code",
   "execution_count": 11,
   "metadata": {},
   "outputs": [],
   "source": [
    "from itertools import product\n",
    "import numpy as np\n",
    "\n",
    "craps_data = pd.DataFrame(product(range(1, 7), repeat=2), columns=[\"X\", \"Z\"])\n",
    "craps_data['Y'] = craps_data['X'] + craps_data['Z']\n"
   ]
  },
  {
   "cell_type": "code",
   "execution_count": 12,
   "metadata": {},
   "outputs": [
    {
     "name": "stdout",
     "output_type": "stream",
     "text": [
      "E(X) = 3.5\n",
      "E(Y) = 7.0\n",
      "\n",
      "E(Y|X=1) = 4.5\n",
      "E(Y|X=2) = 5.5\n",
      "E(Y|X=3) = 6.5\n",
      "E(Y|X=4) = 7.5\n",
      "E(Y|X=5) = 8.5\n",
      "E(Y|X=6) = 9.5\n",
      "\n",
      "E(X|Y=2) = 1.0\n",
      "E(X|Y=3) = 1.5\n",
      "E(X|Y=4) = 2.0\n",
      "E(X|Y=5) = 2.5\n",
      "E(X|Y=6) = 3.0\n",
      "E(X|Y=7) = 3.5\n",
      "E(X|Y=8) = 4.0\n",
      "E(X|Y=9) = 4.5\n",
      "E(X|Y=10) = 5.0\n",
      "E(X|Y=11) = 5.5\n",
      "E(X|Y=12) = 6.0\n",
      "Var(X) = 2.9166666666666665\n",
      "Var(Y) = 5.833333333333333\n",
      "Cov(X, Y), = [[2.91666667 2.91666667]\n",
      " [2.91666667 5.83333333]]\n",
      "Cov(X, Z), = [[2.91666667 0.        ]\n",
      " [0.         2.91666667]]\n"
     ]
    }
   ],
   "source": [
    "print(f\"E(X) = {craps_data['X'].mean()}\")\n",
    "print(f\"E(Y) = {craps_data['Y'].mean()}\")\n",
    "print()\n",
    "for x in craps_data[\"X\"].unique():\n",
    "    print(f\"E(Y|X={x}) = {craps_data[craps_data['X']==x]['Y'].mean()}\")\n",
    "print()\n",
    "for y in craps_data[\"Y\"].unique():\n",
    "    print(f\"E(X|Y={y}) = {craps_data[craps_data['Y']==y]['X'].mean()}\")\n",
    "\n",
    "# print(f\"Var(X) = {craps_data['X'].var()}\")\n",
    "print(f\"Var(X) = {np.var(craps_data['X'])}\")\n",
    "print(f\"Var(Y) = {np.var(craps_data['Y'])}\")\n",
    "print(f\"Cov(X, Y), = {np.cov(craps_data['X'], craps_data['Y'], bias=True)}\")\n",
    "print(f\"Cov(X, Z), = {np.cov(craps_data['X'], craps_data['Z'], bias=True)}\")\n"
   ]
  },
  {
   "cell_type": "markdown",
   "metadata": {},
   "source": [
    "### 2.4.1"
   ]
  },
  {
   "cell_type": "markdown",
   "metadata": {},
   "source": [
    "a. For each pair of non-adjacent nodes in this graph, find a set of variables that d-separates that pair. What does this list tell us about independencies in the data?\n",
    "\n",
    "b. Repeat question (a) assuming that only variables in the set {Z3,W,X,Z1} can be measured.\n",
    "\n",
    "c. For each pair of non-adjacent nodes in the graph, determine whether they are independent conditional on all other variables.\n",
    "\n",
    "d. For every variable V in the graph, find a minimal set of nodes that renders V independent of all other variables in the graph.\n",
    "\n",
    "e. Suppose we wish to estimate the value of Y from measurements taken on all other variables in the model. Find the smallest set of variables that would yield as good an estimate as before.\n",
    "\n",
    "f. Repeat Question (e) assuming that we wish to estimate the value of Z2.\n",
    "\n",
    "g. Suppose we wish to predict the value of Z2 from measurements of Z3. Would the quality of our prediction improve if we add measurement of W? Explain."
   ]
  },
  {
   "cell_type": "code",
   "execution_count": 59,
   "metadata": {},
   "outputs": [],
   "source": [
    "import networkx as nx\n",
    "\n",
    "graph_two_point_eight = nx.DiGraph(directed=True)\n",
    "graph_two_point_eight.add_edges_from([\n",
    "    ('Z', 'W'),\n",
    "    ('W', 'U'),\n",
    "    ('X', 'W'),\n",
    "    ('X', 'Y'),\n",
    "    ('T', 'Y'),\n",
    "    ('T', 'Z'),\n",
    "    ])\n",
    "\n",
    "graph_two_point_nine = nx.DiGraph(directed=True)\n",
    "graph_two_point_nine.add_edges_from([\n",
    "    ('Z1', 'X'),\n",
    "    ('Z1', 'Z3'),\n",
    "    ('Z3', 'X'),\n",
    "    ('Z3', 'Y'),\n",
    "    ('X', 'W'),\n",
    "    ('W', 'Y'),\n",
    "    ('Z2', 'Y'),\n",
    "    ('Z2', 'Z3'),\n",
    "    ])"
   ]
  },
  {
   "cell_type": "code",
   "execution_count": 169,
   "metadata": {},
   "outputs": [
    {
     "data": {
      "image/png": "[encoded data removed]",
      "text/plain": [
       "<Figure size 640x480 with 1 Axes>"
      ]
     },
     "metadata": {},
     "output_type": "display_data"
    }
   ],
   "source": [
    "import numpy as np\n",
    "\n",
    "np.random.seed(19)\n",
    "\n",
    "pos_eight = nx.spring_layout(graph_two_point_eight)\n",
    "pos_nine = nx.spring_layout(graph_two_point_nine)\n",
    "\n",
    "# nx.draw_networkx(graph_two_point_eight, pos_eight, arrows=True)\n",
    "nx.draw_networkx(graph_two_point_nine, pos_nine, arrows=True)\n"
   ]
  },
  {
   "cell_type": "code",
   "execution_count": 194,
   "metadata": {},
   "outputs": [],
   "source": [
    "from itertools import zip_longest, chain\n",
    "\n",
    "\n",
    "def is_d_connected(\n",
    "    graph: nx.classes.graph.Graph,\n",
    "    source: str,\n",
    "    target: str,\n",
    "    conditioned_on: set[str] | None = None,\n",
    "    verbose: bool = False,\n",
    "):\n",
    "    if conditioned_on is None:\n",
    "        conditioned_on = set()\n",
    "    \n",
    "    if {source, target}.intersection(conditioned_on):\n",
    "        return False\n",
    "    \n",
    "    d_connected = False\n",
    "\n",
    "    undirected_graph = graph.to_undirected()\n",
    "    potential_routes = nx.all_simple_paths(\n",
    "        undirected_graph, source=source, target=target\n",
    "    )\n",
    "    for route in potential_routes:\n",
    "        route_open = True  # assume the route is open!\n",
    "        if verbose:\n",
    "            print(f\"Route: {draw_route(graph, route)}\")\n",
    "        for i, (previous_node, node, next_node) in enumerate(\n",
    "            zip(route, route[1:], route[2:])\n",
    "        ):\n",
    "            if verbose:\n",
    "                print(f\"{i}. \", draw_route(graph, (previous_node, node, next_node)))\n",
    "\n",
    "            # Collider case first\n",
    "            if graph.has_edge(previous_node, node) and graph.has_edge(next_node, node):\n",
    "                if verbose:\n",
    "                    print(f\"{node} is a collider.\")\n",
    "                unblocked_by = (\n",
    "                    nx.descendants(graph, node)\n",
    "                    .union(set([node]))\n",
    "                    .intersection(conditioned_on)\n",
    "                )\n",
    "                if not unblocked_by:\n",
    "                    if verbose:\n",
    "                        print(f\"This route is blocked by the collider {node}.\")\n",
    "                    route_open = False\n",
    "                    # break\n",
    "                if verbose:\n",
    "                    print(f\"{node} is a collider but is unblocked by {unblocked_by}\")\n",
    "\n",
    "            # Not a collider.\n",
    "            elif node in conditioned_on:\n",
    "                if verbose:\n",
    "                    print(\n",
    "                        \"This route is blocked as the non-collider\"\n",
    "                        f\" {node} is conditioned on.\"\n",
    "                    )\n",
    "                route_open = False\n",
    "                # break\n",
    "\n",
    "        if route_open:\n",
    "            if verbose:\n",
    "                print(f\"Route is not blocked\")\n",
    "            d_connected = True\n",
    "\n",
    "        if verbose:\n",
    "            print()\n",
    "\n",
    "    if d_connected:\n",
    "        if verbose:\n",
    "            print(f\"There is a route!\")\n",
    "        return True\n",
    "    if verbose:\n",
    "        print(f\"All routes are blocked\")\n",
    "    return False\n",
    "\n",
    "\n",
    "def draw_route(graph, nodes):\n",
    "    arrows = [\n",
    "        \" -> \" if graph.has_edge(node, next_node) else \" <- \"\n",
    "        for node, next_node in zip(nodes, nodes[1:])\n",
    "    ]\n",
    "    return \"\".join(x for x in chain.from_iterable(zip_longest(nodes, arrows)) if x)\n"
   ]
  },
  {
   "cell_type": "markdown",
   "metadata": {},
   "source": [
    "a. For each pair of non-adjacent nodes in this graph, find a set of variables that d-separates that pair. What does this list tell us about independencies in the data?"
   ]
  },
  {
   "cell_type": "code",
   "execution_count": 195,
   "metadata": {},
   "outputs": [
    {
     "data": {
      "text/plain": [
       "[('Z1', 'Y'),\n",
       " ('Z1', 'W'),\n",
       " ('Z1', 'Z2'),\n",
       " ('X', 'Y'),\n",
       " ('X', 'Z2'),\n",
       " ('Z3', 'W'),\n",
       " ('W', 'Z2')]"
      ]
     },
     "execution_count": 195,
     "metadata": {},
     "output_type": "execute_result"
    }
   ],
   "source": [
    "from itertools import combinations\n",
    "\n",
    "non_adjacent_pairs = [\n",
    "    (x, y)\n",
    "    for x, y in combinations(graph_two_point_nine.nodes, r=2)\n",
    "    if x != y and not graph_two_point_nine.to_undirected().has_edge(x, y)\n",
    "]\n",
    "non_adjacent_pairs\n"
   ]
  },
  {
   "cell_type": "code",
   "execution_count": 197,
   "metadata": {},
   "outputs": [
    {
     "name": "stdout",
     "output_type": "stream",
     "text": [
      "Z1 Y {'Z1'}\n",
      "Z1 W {'Z1'}\n",
      "Z1 Z2 set()\n",
      "X Y {'X'}\n",
      "X Z2 {'X'}\n",
      "Z3 W {'X'}\n",
      "W Z2 {'X'}\n"
     ]
    }
   ],
   "source": [
    "combinations_of_nodes = [\n",
    "    set(x)\n",
    "    for i in range(len(graph_two_point_nine.nodes) + 1)\n",
    "    for x in combinations(graph_two_point_nine.nodes, r=i)\n",
    "]\n",
    "# combinations_of_nodes\n",
    "\n",
    "for node, other in non_adjacent_pairs:\n",
    "    for conditioning_set in combinations_of_nodes:\n",
    "        if not is_d_connected(graph_two_point_nine, node, other, conditioning_set):\n",
    "            print(node, other, conditioning_set)\n",
    "            break"
   ]
  },
  {
   "cell_type": "markdown",
   "metadata": {},
   "source": [
    "b. Repeat question (a) assuming that only variables in the set {Z3,W,X,Z1} can be measured."
   ]
  },
  {
   "cell_type": "markdown",
   "metadata": {},
   "source": [
    "c. For each pair of non-adjacent nodes in the graph, determine whether they are independent conditional on all other variables."
   ]
  },
  {
   "cell_type": "code",
   "execution_count": 198,
   "metadata": {},
   "outputs": [
    {
     "name": "stdout",
     "output_type": "stream",
     "text": [
      "Z1 Y False {'Z2', 'X', 'Z3', 'W'}\n",
      "Z1 W False {'Z2', 'Y', 'X', 'Z3'}\n",
      "Z1 Z2 True {'X', 'Y', 'Z3', 'W'}\n",
      "X Y False {'Z2', 'Z1', 'Z3', 'W'}\n",
      "X Z2 False {'Y', 'Z1', 'Z3', 'W'}\n",
      "Z3 W True {'Z2', 'Y', 'Z1', 'X'}\n",
      "W Z2 True {'X', 'Y', 'Z1', 'Z3'}\n"
     ]
    }
   ],
   "source": [
    "all_nodes = set(graph_two_point_nine.nodes)\n",
    "\n",
    "for node, other in non_adjacent_pairs:\n",
    "    condition_on  = all_nodes - {node, other}\n",
    "    print(\n",
    "        node,\n",
    "        other,\n",
    "        is_d_connected(graph_two_point_nine, node, other, condition_on),\n",
    "        condition_on\n",
    "    )\n",
    "    \n",
    "# False means they are independent.\n"
   ]
  },
  {
   "cell_type": "markdown",
   "metadata": {},
   "source": [
    "d. For every variable V in the graph, find a minimal set of nodes that renders V independent of all other variables in the graph."
   ]
  },
  {
   "cell_type": "code",
   "execution_count": 192,
   "metadata": {},
   "outputs": [
    {
     "name": "stdout",
     "output_type": "stream",
     "text": [
      "Starting on node Z3\n",
      "Z3 {'Z2', 'Y', 'Z1', 'X', 'W'} SUCCESS\n",
      "Starting on node Z2\n",
      "Z2 {'Y', 'Z1', 'Z3', 'W'} SUCCESS\n",
      "Starting on node Y\n",
      "Y {'Z2', 'Z3', 'W'} SUCCESS\n",
      "Starting on node Z1\n",
      "Z1 {'Z2', 'X', 'Z3'} SUCCESS\n",
      "Starting on node X\n",
      "X {'Z1', 'Z3', 'W'} SUCCESS\n",
      "Starting on node W\n",
      "W {'Z2', 'Y', 'X', 'Z3'} SUCCESS\n"
     ]
    }
   ],
   "source": [
    "for node in combinations_of_nodes[-1]:\n",
    "    print(f\"Starting on node {node}\")\n",
    "    other_nodes = combinations_of_nodes[-1] - {node}\n",
    "    candidates = (\n",
    "        set(x)\n",
    "        for i in range(len(other_nodes) + 1)\n",
    "        for x in combinations(other_nodes, r=i)\n",
    "    )\n",
    "    for candidate in candidates:\n",
    "        candidate_success = True\n",
    "        for other in other_nodes:\n",
    "            node_to_other = is_d_connected(graph_two_point_nine, node, other, candidate)\n",
    "            # print(f\"Testing {node=} {other=} {candidate=} {node_to_other=}\")\n",
    "            if node_to_other:\n",
    "                candidate_success = False\n",
    "\n",
    "        # print(node, other, candidate)\n",
    "        if candidate_success:\n",
    "            print(node, candidate, 'SUCCESS')\n",
    "            break\n"
   ]
  },
  {
   "cell_type": "markdown",
   "metadata": {},
   "source": [
    "e. Suppose we wish to estimate the value of Y from measurements taken on all other variables in the model. Find the smallest set of variables that would yield as good an estimate as before."
   ]
  },
  {
   "cell_type": "markdown",
   "metadata": {},
   "source": [
    "{'Z2', 'Z3', 'W'}"
   ]
  },
  {
   "cell_type": "markdown",
   "metadata": {},
   "source": [
    "f. Repeat Question (e) assuming that we wish to estimate the value of Z2."
   ]
  },
  {
   "cell_type": "markdown",
   "metadata": {},
   "source": [
    "{'Y', 'Z1', 'Z3', 'W'}"
   ]
  },
  {
   "cell_type": "markdown",
   "metadata": {},
   "source": [
    "g. Suppose we wish to predict the value of Z2 from measurements of Z3. Would the quality of our prediction improve if we add measurement of W? Explain."
   ]
  },
  {
   "cell_type": "markdown",
   "metadata": {},
   "source": [
    "Z2 is dependent of W Given Z3 due to the route through X, X, Z1, Z3, Z2 So knowing W would help?"
   ]
  },
  {
   "cell_type": "markdown",
   "metadata": {},
   "source": [
    "## Other exploration"
   ]
  },
  {
   "cell_type": "markdown",
   "metadata": {},
   "source": [
    "Other peoples answers::\n",
    "- https://github.com/joaomacalos/causal_primer/blob/master/Chapter%201/questions_13.md\n",
    "- https://github.com/fredthedead/causal-inference-in-statistics-solutions/blob/master/ch-1.ipynb\n",
    "- http://dagitty.net/primer/index.html#study-question-2.4.1"
   ]
  }
 ],
 "metadata": {
  "kernelspec": {
   "display_name": "Python 3.10.2 ('statisitics-uPV09BQ1')",
   "language": "python",
   "name": "python3"
  },
  "language_info": {
   "codemirror_mode": {
    "name": "ipython",
    "version": 3
   },
   "file_extension": ".py",
   "mimetype": "text/x-python",
   "name": "python",
   "nbconvert_exporter": "python",
   "pygments_lexer": "ipython3",
   "version": "3.10.2"
  },
  "orig_nbformat": 4,
  "vscode": {
   "interpreter": {
    "hash": "9fb26d24a38a39717773d72576560fec73d0f637a4d78816654fe366ff8101fd"
   }
  }
 },
 "nbformat": 4,
 "nbformat_minor": 2
}

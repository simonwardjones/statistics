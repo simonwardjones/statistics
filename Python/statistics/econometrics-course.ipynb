{
 "cells": [
  {
   "cell_type": "markdown",
   "id": "d3a7c89c",
   "metadata": {},
   "source": [
    "# Statistics/Econometrics"
   ]
  },
  {
   "cell_type": "markdown",
   "id": "ad9a84e4",
   "metadata": {},
   "source": [
    "This notebook has a focus on statistics and econometrics. Following the youtube series here by Ben Lambert:\n",
    " - [A full course in econometrics - undergraduate level - part 1](https://www.youtube.com/playlist?list=PLwJRxp3blEvZyQBTTOMFRP_TDaSdly3gU)\n",
    " - [A full course in econometrics - undergraduate level - part 2](https://www.youtube.com/playlist?list=PLwJRxp3blEvb7P-7po9AxuBwquPv75LjU)"
   ]
  },
  {
   "cell_type": "markdown",
   "id": "c1204cd8",
   "metadata": {},
   "source": [
    "### Video 1 - Undergraduate econometrics syllabus\n",
    "\n",
    "Summary of course\n",
    "\n",
    " - Estimating population parameters from sample (using estimators)\n",
    " - Cross sectional data (no time element)\n",
    " - OLS (ordinary least squares) is BLUE (best linear unbiased estimator) under gauss markoff conditions\n",
    " - Consistency\n",
    " - Instrumental variables\n",
    " - GLS\n",
    " - Time series\n",
    " - Stationary time series\n",
    " - Auto regressive (1)\n",
    " - Moving average (1)\n",
    " - Panel Data\n",
    " - Data generating process\n",
    " - Between estimator\n",
    " - Withing estimator\n",
    " - Fixed/Random effects"
   ]
  },
  {
   "cell_type": "markdown",
   "id": "a0bfb755",
   "metadata": {},
   "source": [
    "### Video 2 - What is econometrics\n",
    "\n",
    " - Econometrics helps to explain relationships (e.g. TV ad spend and sales)\n",
    " - Estimating Population parameters from samples (sampling error)"
   ]
  },
  {
   "cell_type": "markdown",
   "id": "4e276336",
   "metadata": {},
   "source": [
    "### Video 3 - Econometrics vs hard science\n",
    "\n",
    " - Can't always use a controlled test (AB test)\n",
    " - Issues with reverse-causal effects (y actually causes x, or confounding variable)\n"
   ]
  },
  {
   "cell_type": "markdown",
   "id": "aae95b10",
   "metadata": {},
   "source": [
    "### Video 4 - Natural experiments in econometrics\n",
    "\n",
    " - An experiment that resulted due to another action e.g. army conscription by birth date"
   ]
  },
  {
   "cell_type": "markdown",
   "id": "e63cc3d7",
   "metadata": {},
   "source": [
    "### Video 5 - Populations and samples in Economics\n",
    "\n",
    " - Examples of a population - e.g. UK under 18s\n",
    " - We often want to understand relationships e.g. impact of years of education on wages $W=\\alpha + \\beta E$\n",
    " - We often only have data for a sample\n",
    " - When estimating parameters from a sample this parameter will differ from the population parameter and we call this sampling error $\\beta_s\\neq\\beta$"
   ]
  },
  {
   "cell_type": "markdown",
   "id": "da4f61db",
   "metadata": {},
   "source": [
    "### Video n - xxxx\n",
    "\n",
    " - yyyy"
   ]
  },
  {
   "cell_type": "code",
   "execution_count": null,
   "id": "6e368100",
   "metadata": {},
   "outputs": [],
   "source": []
  }
 ],
 "metadata": {
  "kernelspec": {
   "display_name": "Python 3 (ipykernel)",
   "language": "python",
   "name": "python3"
  },
  "language_info": {
   "codemirror_mode": {
    "name": "ipython",
    "version": 3
   },
   "file_extension": ".py",
   "mimetype": "text/x-python",
   "name": "python",
   "nbconvert_exporter": "python",
   "pygments_lexer": "ipython3",
   "version": "3.7.11"
  }
 },
 "nbformat": 4,
 "nbformat_minor": 5
}

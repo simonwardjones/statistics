{
 "cells": [
  {
   "cell_type": "markdown",
   "metadata": {},
   "source": [
    "# Hilbert Spaces"
   ]
  },
  {
   "cell_type": "markdown",
   "metadata": {},
   "source": [
    "Let $\\mathcal{H}$ be a vector space over the reals $\\mathbb{R}$. A function $\\langle \\cdot, \\cdot \\rangle : \\mathcal{H} \\times \\mathcal{H} \\to \\mathbb{R}$ is called an inner product if it satisfies the following properties.\n",
    "1. $\\langle x, y \\rangle = \\langle y, x \\rangle$ for all $x, y \\in \\mathcal{H}$.\n",
    "2. $\\langle \\alpha x + \\beta y, z \\rangle = \\alpha \\langle x, z \\rangle + \\beta \\langle y, z \\rangle$ for all $x, y, z \\in \\mathcal{H}$ and $\\alpha, \\beta \\in \\mathbb{R}$.\n",
    "3. $\\langle x, x \\rangle \\geq 0$ for all $x \\in \\mathcal{H}$ and $\\langle x, x \\rangle = 0$ if and only if $x = 0$.\n",
    "\n",
    "We can also define a norm on $\\mathcal{H}$ as $\\|x\\| = \\sqrt{\\langle x, x \\rangle}$. \n",
    "\n",
    "**A Hilbert space is a complete inner product space with respect to the norm defined above.** \n",
    "\n",
    "By complete we mean that every Cauchy sequence in $\\mathcal{H}$ converges to a point in $\\mathcal{H}$. A cauchy sequence is formally defined as follows. A sequence $\\{x_n\\}$ in $\\mathcal{H}$ is said to be a Cauchy sequence if for every $\\epsilon > 0$, there exists an $N \\in \\mathbb{N}$ such that for all $m, n \\geq N$, we have $\\|x_m - x_n\\| < \\epsilon$.\n",
    "\n",
    "\n",
    "### Kernels\n",
    "A function $k : \\mathcal{X} \\times \\mathcal{X} \\to \\mathbb{R}$ is called a kernel if there exists a Hilbert space $\\mathcal{H}$ and a mapping $\\phi : \\mathcal{X} \\to \\mathcal{H}$ such that $k(x, x') = \\langle \\phi(x), \\phi(x') \\rangle$ for all $x, x' \\in \\mathcal{X}$.\n",
    "\n",
    "\n",
    "### Example 1\n",
    "\n",
    "Consider $k(x, y) = (x_1, x_2, x_1x_2) \\cdot (y_1, y_2, y_1y_2)^T = x_1y_1 + x_2y_2 + x_1x_2y_1y_2$. \n",
    "To see this is a kernel, we can define $\\phi(x) = (x_1, x_2, x_1x_2)$. Then, $k(x, y) = \\langle \\phi(x), \\phi(y) \\rangle$ where $\\langle \\cdot, \\cdot \\rangle$ is the standard inner product in $\\mathbb{R}^3$. We can think of $\\phi$ as a mapping from $\\mathbb{R}^2$ to $\\mathbb{R}^3$ or as a mapping from $\\mathcal{X}$ to $\\mathcal{H}$. In this case $\\mathcal{H}$ is the set of all functions of the form $f(x) = \\langle \\phi(x), w \\rangle$ for some $w \\in \\mathbb{R}^3$.\n",
    "\n",
    "\n",
    "Resources:\n",
    "1. [Wikipedia](https://en.wikipedia.org/wiki/Hilbert_space)\n",
    "2. [Lecture notes on RKHS](https://www.gatsby.ucl.ac.uk/~gretton/coursefiles/lecture4_introToRKHS.pdf)\n",
    "3. [Stack overflow question](https://math.stackexchange.com/questions/4650549/what-is-the-rkhs-associated-with-the-polynomial-kernel)"
   ]
  },
  {
   "cell_type": "markdown",
   "metadata": {},
   "source": []
  }
 ],
 "metadata": {
  "language_info": {
   "name": "python"
  }
 },
 "nbformat": 4,
 "nbformat_minor": 2
}

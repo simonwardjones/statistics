{
 "cells": [
  {
   "cell_type": "markdown",
   "source": [
    "# Statistics/Econometrics"
   ],
   "metadata": {}
  },
  {
   "cell_type": "markdown",
   "source": [
    "This notebook has a focus on statistics and econometrics. Following the youtube series here by Ben Lambert:\n",
    " - [A full course in econometrics - undergraduate level - part 1](https://www.youtube.com/playlist?list=PLwJRxp3blEvZyQBTTOMFRP_TDaSdly3gU)\n",
    " - [A full course in econometrics - undergraduate level - part 2](https://www.youtube.com/playlist?list=PLwJRxp3blEvb7P-7po9AxuBwquPv75LjU)"
   ],
   "metadata": {}
  },
  {
   "cell_type": "markdown",
   "source": [
    "### Video 1 - Undergraduate econometrics syllabus\n",
    "\n",
    "Summary of course\n",
    "\n",
    " - Estimating poulation parameters from sample (using estimators)\n",
    " - Cross sectional data (no time element)\n",
    " - OLS (ordinary least squares) is BLUE (best linear unbiased estimator) under gauss markoff conditions\n",
    " - Consistency\n",
    " - Instrumental variables\n",
    " - GLS\n",
    " - Time series\n",
    " - Stationary time series\n",
    " - Auto regressive (1)\n",
    " - Moving average (1)\n",
    " - Panel Data\n",
    " - Data generating process\n",
    " - Between estimator\n",
    " - Withing estimator\n",
    " - Fixed/Random effects"
   ],
   "metadata": {}
  },
  {
   "cell_type": "markdown",
   "source": [
    "### Video 2 - What is econometrics\n",
    "\n",
    " - Econometrics helps to explain relationships (e.g. TV ad spend and sales)\n",
    " - Estimating Population parameters from samples (sampling error)"
   ],
   "metadata": {}
  },
  {
   "cell_type": "markdown",
   "source": [
    "### Video 3 - Econometrics vs hard science\n",
    "\n",
    " - Can't always use a controlled test\n",
    " - Issues with rever-causal effects (y actually causes x, or confounding variable)\n"
   ],
   "metadata": {}
  },
  {
   "cell_type": "markdown",
   "source": [
    "### Video 4 - Natural experiments in econometrics\n",
    "\n",
    " - xxx"
   ],
   "metadata": {}
  },
  {
   "cell_type": "markdown",
   "source": [],
   "metadata": {}
  }
 ],
 "metadata": {
  "kernelspec": {
   "display_name": "Python 3 (ipykernel)",
   "language": "python",
   "name": "python3"
  },
  "language_info": {
   "codemirror_mode": {
    "name": "ipython",
    "version": 3
   },
   "file_extension": ".py",
   "mimetype": "text/x-python",
   "name": "python",
   "nbconvert_exporter": "python",
   "pygments_lexer": "ipython3",
   "version": "3.7.11"
  }
 },
 "nbformat": 4,
 "nbformat_minor": 5
}
{
 "cells": [
  {
   "cell_type": "markdown",
   "id": "a782fb73",
   "metadata": {},
   "source": [
    "# Econometrics course problem sets"
   ]
  },
  {
   "cell_type": "markdown",
   "id": "15051eaf",
   "metadata": {},
   "source": [
    "Questions: https://ben-lambert.com/econometrics-course-problem-sets-and-data/"
   ]
  },
  {
   "cell_type": "markdown",
   "id": "027baa3f",
   "metadata": {},
   "source": [
    "Note for problem set 4 use https://github.com/spring-haru/wooldridge/blob/master/raw_data/data_csv/card.csv"
   ]
  },
  {
   "cell_type": "code",
   "execution_count": 6,
   "id": "4223f1ee",
   "metadata": {},
   "outputs": [],
   "source": [
    "import pandas as pd"
   ]
  },
  {
   "cell_type": "code",
   "execution_count": 7,
   "id": "110e9c52",
   "metadata": {},
   "outputs": [],
   "source": [
    "violence_date = pd.read_excel('./data/problemset1.xls')"
   ]
  },
  {
   "cell_type": "code",
   "execution_count": 8,
   "id": "f7521edd",
   "metadata": {},
   "outputs": [
    {
     "data": {
      "text/html": [
       "<div>\n",
       "<style scoped>\n",
       "    .dataframe tbody tr th:only-of-type {\n",
       "        vertical-align: middle;\n",
       "    }\n",
       "\n",
       "    .dataframe tbody tr th {\n",
       "        vertical-align: top;\n",
       "    }\n",
       "\n",
       "    .dataframe thead th {\n",
       "        text-align: right;\n",
       "    }\n",
       "</style>\n",
       "<table border=\"1\" class=\"dataframe\">\n",
       "  <thead>\n",
       "    <tr style=\"text-align: right;\">\n",
       "      <th></th>\n",
       "      <th>State</th>\n",
       "      <th>Unemployment</th>\n",
       "      <th>Violence</th>\n",
       "    </tr>\n",
       "  </thead>\n",
       "  <tbody>\n",
       "    <tr>\n",
       "      <th>0</th>\n",
       "      <td>Alabama</td>\n",
       "      <td>7.2</td>\n",
       "      <td>383.7</td>\n",
       "    </tr>\n",
       "    <tr>\n",
       "      <th>1</th>\n",
       "      <td>Alaska</td>\n",
       "      <td>7.0</td>\n",
       "      <td>635.3</td>\n",
       "    </tr>\n",
       "    <tr>\n",
       "      <th>2</th>\n",
       "      <td>Arizona</td>\n",
       "      <td>7.7</td>\n",
       "      <td>413.6</td>\n",
       "    </tr>\n",
       "    <tr>\n",
       "      <th>3</th>\n",
       "      <td>Arkansas</td>\n",
       "      <td>7.2</td>\n",
       "      <td>503.5</td>\n",
       "    </tr>\n",
       "    <tr>\n",
       "      <th>4</th>\n",
       "      <td>California</td>\n",
       "      <td>8.9</td>\n",
       "      <td>439.6</td>\n",
       "    </tr>\n",
       "  </tbody>\n",
       "</table>\n",
       "</div>"
      ],
      "text/plain": [
       "        State  Unemployment  Violence\n",
       "0     Alabama           7.2     383.7\n",
       "1      Alaska           7.0     635.3\n",
       "2     Arizona           7.7     413.6\n",
       "3    Arkansas           7.2     503.5\n",
       "4  California           8.9     439.6"
      ]
     },
     "execution_count": 8,
     "metadata": {},
     "output_type": "execute_result"
    }
   ],
   "source": [
    "violence_date.head()"
   ]
  },
  {
   "cell_type": "code",
   "execution_count": null,
   "id": "14cd2930",
   "metadata": {},
   "outputs": [],
   "source": []
  }
 ],
 "metadata": {
  "kernelspec": {
   "display_name": "Python 3 (ipykernel)",
   "language": "python",
   "name": "python3"
  },
  "language_info": {
   "codemirror_mode": {
    "name": "ipython",
    "version": 3
   },
   "file_extension": ".py",
   "mimetype": "text/x-python",
   "name": "python",
   "nbconvert_exporter": "python",
   "pygments_lexer": "ipython3",
   "version": "3.7.12"
  },
  "toc": {
   "base_numbering": 1,
   "nav_menu": {},
   "number_sections": true,
   "sideBar": true,
   "skip_h1_title": false,
   "title_cell": "Table of Contents",
   "title_sidebar": "Contents",
   "toc_cell": false,
   "toc_position": {},
   "toc_section_display": true,
   "toc_window_display": false
  }
 },
 "nbformat": 4,
 "nbformat_minor": 5
}
